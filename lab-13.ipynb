{
 "cells": [
  {
   "cell_type": "code",
   "execution_count": 1,
   "id": "a3cc1903",
   "metadata": {
    "_cell_guid": "b1076dfc-b9ad-4769-8c92-a6c4dae69d19",
    "_uuid": "8f2839f25d086af736a60e9eeb907d3b93b6e0e5",
    "execution": {
     "iopub.execute_input": "2023-11-06T07:56:42.117905Z",
     "iopub.status.busy": "2023-11-06T07:56:42.117241Z",
     "iopub.status.idle": "2023-11-06T07:56:43.793446Z",
     "shell.execute_reply": "2023-11-06T07:56:43.791904Z"
    },
    "papermill": {
     "duration": 1.684345,
     "end_time": "2023-11-06T07:56:43.796612",
     "exception": false,
     "start_time": "2023-11-06T07:56:42.112267",
     "status": "completed"
    },
    "tags": []
   },
   "outputs": [
    {
     "name": "stdout",
     "output_type": "stream",
     "text": [
      "Accuracy of the k-NN model with k = 5 : 100.00 %\n"
     ]
    }
   ],
   "source": [
    "# Importing needed libreries \n",
    "import numpy as np # To perform mathematical equations\n",
    "from collections import Counter # To count the occurrences of elements in a collection\n",
    "from sklearn.datasets import load_iris # Load the Iris dataset\n",
    "from sklearn.model_selection import train_test_split # To split data into train and test data\n",
    "from sklearn.metrics import accuracy_score # To calculate accuracy\n",
    "\n",
    "# Define the Euclidean distance function\n",
    "def euclidean_distance(x1, x2):\n",
    "    return np.sqrt(np.sum((x1 - x2) ** 2))\n",
    "\n",
    "# Define the k-NN model\n",
    "class KNN:\n",
    "    k=5\n",
    "    def init(self, k = 5):\n",
    "        self.k = k\n",
    "\n",
    "    def fit(self, X, y):\n",
    "        self.X_train = X\n",
    "        self.y_train = y\n",
    "\n",
    "    def predict(self, X):\n",
    "        predictions = [self._predict(x) for x in X]\n",
    "        return np.array(predictions)\n",
    "\n",
    "    def _predict(self, x):\n",
    "        # Calculate distances between x and all examples in the training set\n",
    "        distances = [euclidean_distance(x, x_train) for x_train in self.X_train]\n",
    "        \n",
    "        # Sort by distance and return indices of the first k neighbors\n",
    "        k_indices = np.argsort(distances)[:self.k]\n",
    "        \n",
    "        # Extract the labels of the k nearest neighbor training samples\n",
    "        k_nearest_labels = [self.y_train[i] for i in k_indices]\n",
    "        \n",
    "        # Return the most common class label among the k nearest neighbors\n",
    "        most_common = Counter(k_nearest_labels).most_common(1)\n",
    "        return most_common[0][0]\n",
    "\n",
    "# Define features and target value and split data into train and test data\n",
    "iris = load_iris()\n",
    "X = iris.data  # Features\n",
    "y = iris.target  # Target variable (species)\n",
    "\n",
    "# Split the dataset into training and testing sets\n",
    "X_train, X_test, y_train, y_test = train_test_split(X, y, test_size=0.2, random_state=42)\n",
    "\n",
    "# Create and fit the k-NN classifier\n",
    "k = 5\n",
    "clf = KNN()\n",
    "clf.fit(X_train, y_train)\n",
    "\n",
    "# Predict the labels for the test set\n",
    "predictions = clf.predict(X_test)\n",
    "\n",
    "accuracy = accuracy_score(y_test, predictions)\n",
    "accuracy_percentage = accuracy * 100\n",
    "print(f\"Accuracy of the k-NN model with k = {k} : {accuracy_percentage:.2f} %\")"
   ]
  }
 ],
 "metadata": {
  "kernelspec": {
   "display_name": "Python 3",
   "language": "python",
   "name": "python3"
  },
  "language_info": {
   "codemirror_mode": {
    "name": "ipython",
    "version": 3
   },
   "file_extension": ".py",
   "mimetype": "text/x-python",
   "name": "python",
   "nbconvert_exporter": "python",
   "pygments_lexer": "ipython3",
   "version": "3.10.12"
  },
  "papermill": {
   "default_parameters": {},
   "duration": 5.949335,
   "end_time": "2023-11-06T07:56:44.424357",
   "environment_variables": {},
   "exception": null,
   "input_path": "__notebook__.ipynb",
   "output_path": "__notebook__.ipynb",
   "parameters": {},
   "start_time": "2023-11-06T07:56:38.475022",
   "version": "2.4.0"
  }
 },
 "nbformat": 4,
 "nbformat_minor": 5
}
