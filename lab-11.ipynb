{
 "cells": [
  {
   "cell_type": "markdown",
   "id": "38d9c288",
   "metadata": {
    "papermill": {
     "duration": 0.001818,
     "end_time": "2023-11-05T09:05:13.846941",
     "exception": false,
     "start_time": "2023-11-05T09:05:13.845123",
     "status": "completed"
    },
    "tags": []
   },
   "source": [
    "# Write a Pandas program to filter all columns where all entries present, check which rows and columns has a NaN and finally drop rows with any NaNs from the given dataset."
   ]
  },
  {
   "cell_type": "code",
   "execution_count": 1,
   "id": "c51280b9",
   "metadata": {
    "execution": {
     "iopub.execute_input": "2023-11-05T09:05:13.852102Z",
     "iopub.status.busy": "2023-11-05T09:05:13.851625Z",
     "iopub.status.idle": "2023-11-05T09:05:14.271925Z",
     "shell.execute_reply": "2023-11-05T09:05:14.270592Z"
    },
    "papermill": {
     "duration": 0.426133,
     "end_time": "2023-11-05T09:05:14.274561",
     "exception": false,
     "start_time": "2023-11-05T09:05:13.848428",
     "status": "completed"
    },
    "tags": []
   },
   "outputs": [
    {
     "name": "stdout",
     "output_type": "stream",
     "text": [
      "Filtered DataFrame with all entries present:\n",
      "  Name  ID\n",
      "0    A   1\n",
      "1    B   2\n",
      "2    C   3\n",
      "3    D   4\n",
      "4    E   5\n",
      "Rows with NaN values:\n",
      "  Name  ID  Age\n",
      "4    E   5  NaN\n",
      "Columns with NaN values:\n",
      "Index(['Age'], dtype='object')\n",
      "Cleaned DataFrame with no NaN values:\n",
      "  Name  ID   Age\n",
      "0    A   1  18.0\n",
      "1    B   2  17.0\n",
      "2    C   3  20.0\n",
      "3    D   4  21.0\n"
     ]
    }
   ],
   "source": [
    "#216270307025\n",
    "#Solanki Raj\n",
    "\n",
    "import numpy as np\n",
    "import pandas as pd\n",
    "\n",
    "data= {\n",
    "'Name' : ['A','B','C','D','E'],\n",
    "'ID' : [1,2,3,4,5],\n",
    "'Age' : [18,17,20,21,np.nan]\n",
    "}\n",
    "\n",
    "df=pd.DataFrame(data)\n",
    "\n",
    "df_filtered=df.dropna(axis=1, how='any')\n",
    "\n",
    "rows_with_nan=df[df.isnull().any(axis=1)]\n",
    "columns_with_nan=df.columns[df.isnull().any()]\n",
    "\n",
    "df_cleaned=df.dropna()\n",
    "\n",
    "print(\"Filtered DataFrame with all entries present:\")\n",
    "print(df_filtered)\n",
    "\n",
    "print(\"Rows with NaN values:\")\n",
    "print(rows_with_nan)\n",
    "\n",
    "print(\"Columns with NaN values:\")\n",
    "print(columns_with_nan)\n",
    "\n",
    "print(\"Cleaned DataFrame with no NaN values:\")\n",
    "print(df_cleaned)\n"
   ]
  }
 ],
 "metadata": {
  "kernelspec": {
   "display_name": "Python 3",
   "language": "python",
   "name": "python3"
  },
  "language_info": {
   "codemirror_mode": {
    "name": "ipython",
    "version": 3
   },
   "file_extension": ".py",
   "mimetype": "text/x-python",
   "name": "python",
   "nbconvert_exporter": "python",
   "pygments_lexer": "ipython3",
   "version": "3.10.12"
  },
  "papermill": {
   "default_parameters": {},
   "duration": 6.226943,
   "end_time": "2023-11-05T09:05:17.056627",
   "environment_variables": {},
   "exception": null,
   "input_path": "__notebook__.ipynb",
   "output_path": "__notebook__.ipynb",
   "parameters": {},
   "start_time": "2023-11-05T09:05:10.829684",
   "version": "2.4.0"
  }
 },
 "nbformat": 4,
 "nbformat_minor": 5
}
