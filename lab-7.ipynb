{
 "cells": [
  {
   "cell_type": "markdown",
   "id": "df03e807",
   "metadata": {
    "papermill": {
     "duration": 0.003092,
     "end_time": "2023-10-19T09:02:42.456282",
     "exception": false,
     "start_time": "2023-10-19T09:02:42.453190",
     "status": "completed"
    },
    "tags": []
   },
   "source": [
    "# 1. to create a dataframe from a dictionary and display it"
   ]
  },
  {
   "cell_type": "code",
   "execution_count": 1,
   "id": "2b39da5c",
   "metadata": {
    "execution": {
     "iopub.execute_input": "2023-10-19T09:02:42.466853Z",
     "iopub.status.busy": "2023-10-19T09:02:42.465782Z",
     "iopub.status.idle": "2023-10-19T09:02:42.935856Z",
     "shell.execute_reply": "2023-10-19T09:02:42.934513Z"
    },
    "papermill": {
     "duration": 0.479932,
     "end_time": "2023-10-19T09:02:42.938906",
     "exception": false,
     "start_time": "2023-10-19T09:02:42.458974",
     "status": "completed"
    },
    "tags": []
   },
   "outputs": [
    {
     "name": "stdout",
     "output_type": "stream",
     "text": [
      "      Name  Age    Enrollment\n",
      "0   Aditya   18  216270307032\n",
      "1      Raj   17  216270307025\n",
      "2  Bhargav   18  216270307013\n"
     ]
    }
   ],
   "source": [
    "import pandas as pd\n",
    "import numpy as np\n",
    "\n",
    "details = {\n",
    "    'Name' : ['Aditya', 'Raj', 'Bhargav'],\n",
    "    'Age' : [18, 17, 18],\n",
    "    'Enrollment' : [216270307032, 216270307025, 216270307013]\n",
    "}\n",
    "\n",
    "print(pd.DataFrame(details, columns = ['Name', 'Age', 'Enrollment']))"
   ]
  },
  {
   "cell_type": "markdown",
   "id": "54db03b1",
   "metadata": {
    "papermill": {
     "duration": 0.002237,
     "end_time": "2023-10-19T09:02:42.943896",
     "exception": false,
     "start_time": "2023-10-19T09:02:42.941659",
     "status": "completed"
    },
    "tags": []
   },
   "source": [
    "# 2. to sort the DataFrame first by 'name' in ascending order"
   ]
  },
  {
   "cell_type": "code",
   "execution_count": 2,
   "id": "1b71ceb6",
   "metadata": {
    "execution": {
     "iopub.execute_input": "2023-10-19T09:02:42.950876Z",
     "iopub.status.busy": "2023-10-19T09:02:42.950161Z",
     "iopub.status.idle": "2023-10-19T09:02:42.967340Z",
     "shell.execute_reply": "2023-10-19T09:02:42.966056Z"
    },
    "papermill": {
     "duration": 0.023428,
     "end_time": "2023-10-19T09:02:42.969606",
     "exception": false,
     "start_time": "2023-10-19T09:02:42.946178",
     "status": "completed"
    },
    "tags": []
   },
   "outputs": [
    {
     "name": "stdout",
     "output_type": "stream",
     "text": [
      "      Name  Age    Enrollment\n",
      "0   Aditya   18  216270307032\n",
      "2  Bhargav   18  216270307013\n",
      "1      Raj   17  216270307025\n"
     ]
    }
   ],
   "source": [
    "import numpy as np\n",
    "import pandas as pd\n",
    "\n",
    "details = {\n",
    "    'Name' : ['Aditya', 'Raj', 'Bhargav'],\n",
    "    'Age' : [18, 17, 18],\n",
    "    'Enrollment' : [216270307032, 216270307025, 216270307013]\n",
    "}\n",
    "\n",
    "print(pd.DataFrame(details, columns = ['Name', 'Age', 'Enrollment']).sort_values(by = ['Name']))"
   ]
  },
  {
   "cell_type": "markdown",
   "id": "3196c36f",
   "metadata": {
    "papermill": {
     "duration": 0.002418,
     "end_time": "2023-10-19T09:02:42.974816",
     "exception": false,
     "start_time": "2023-10-19T09:02:42.972398",
     "status": "completed"
    },
    "tags": []
   },
   "source": [
    "# 3. to delete the one specific column from the DataFrame"
   ]
  },
  {
   "cell_type": "code",
   "execution_count": 3,
   "id": "d87f6d85",
   "metadata": {
    "execution": {
     "iopub.execute_input": "2023-10-19T09:02:42.982117Z",
     "iopub.status.busy": "2023-10-19T09:02:42.981389Z",
     "iopub.status.idle": "2023-10-19T09:02:42.998738Z",
     "shell.execute_reply": "2023-10-19T09:02:42.997473Z"
    },
    "papermill": {
     "duration": 0.024768,
     "end_time": "2023-10-19T09:02:43.001937",
     "exception": false,
     "start_time": "2023-10-19T09:02:42.977169",
     "status": "completed"
    },
    "tags": []
   },
   "outputs": [
    {
     "name": "stdout",
     "output_type": "stream",
     "text": [
      "       Name    Enrollment\n",
      "0    Aditya  216270307032\n",
      "1  Chhayank  216270307017\n",
      "2   Bhargav  216270307013\n"
     ]
    }
   ],
   "source": [
    "import pandas as pd\n",
    "import numpy as np\n",
    "\n",
    "details = {\n",
    "    'Name' : ['Aditya', 'Chhayank', 'Bhargav'],\n",
    "    'Age' : [18, 17, 18],\n",
    "    'Enrollment' : [216270307032, 216270307017, 216270307013]\n",
    "}\n",
    "\n",
    "print(pd.DataFrame(details, columns = ['Name', 'Age', 'Enrollment']).drop(['Age'], axis = 1))"
   ]
  },
  {
   "cell_type": "markdown",
   "id": "7e2ffa2c",
   "metadata": {
    "papermill": {
     "duration": 0.003993,
     "end_time": "2023-10-19T09:02:43.009797",
     "exception": false,
     "start_time": "2023-10-19T09:02:43.005804",
     "status": "completed"
    },
    "tags": []
   },
   "source": [
    "# 4. to write a DataFrame to CSV file using tab separator"
   ]
  },
  {
   "cell_type": "code",
   "execution_count": 4,
   "id": "c1b09562",
   "metadata": {
    "execution": {
     "iopub.execute_input": "2023-10-19T09:02:43.018103Z",
     "iopub.status.busy": "2023-10-19T09:02:43.017623Z",
     "iopub.status.idle": "2023-10-19T09:02:43.039182Z",
     "shell.execute_reply": "2023-10-19T09:02:43.038061Z"
    },
    "papermill": {
     "duration": 0.028792,
     "end_time": "2023-10-19T09:02:43.041804",
     "exception": false,
     "start_time": "2023-10-19T09:02:43.013012",
     "status": "completed"
    },
    "tags": []
   },
   "outputs": [
    {
     "name": "stdout",
     "output_type": "stream",
     "text": [
      "\n",
      "Data from Students.csv : \n",
      "         \\tName\\tAge\\tEnrollment\n",
      "0   0\\tAditya\\t18\\t216270307032\n",
      "1      1\\tRaj\\t17\\t216270307025\n",
      "2  2\\tBhargav\\t18\\t216270307013\n"
     ]
    }
   ],
   "source": [
    "import pandas as pd\n",
    "import numpy as np\n",
    "\n",
    "details = {\n",
    "    'Name' : ['Aditya', 'Raj', 'Bhargav'],\n",
    "    'Age' : [18, 17, 18],\n",
    "    'Enrollment' : [216270307032, 216270307025, 216270307013]\n",
    "}\n",
    "\n",
    "data_frame = pd.DataFrame(details, columns = ['Name', 'Age', 'Enrollment'])\n",
    "\n",
    "data_frame.to_csv('Details.csv', sep = '\\t') # Saving as a CSV file\n",
    " \n",
    "new_data_frame = pd.read_csv('Details.csv') # loading the CSV file\n",
    " \n",
    "print('\\nData from Students.csv : \\n', new_data_frame)"
   ]
  }
 ],
 "metadata": {
  "kernelspec": {
   "display_name": "Python 3",
   "language": "python",
   "name": "python3"
  },
  "language_info": {
   "codemirror_mode": {
    "name": "ipython",
    "version": 3
   },
   "file_extension": ".py",
   "mimetype": "text/x-python",
   "name": "python",
   "nbconvert_exporter": "python",
   "pygments_lexer": "ipython3",
   "version": "3.10.12"
  },
  "papermill": {
   "default_parameters": {},
   "duration": 4.936044,
   "end_time": "2023-10-19T09:02:43.768024",
   "environment_variables": {},
   "exception": null,
   "input_path": "__notebook__.ipynb",
   "output_path": "__notebook__.ipynb",
   "parameters": {},
   "start_time": "2023-10-19T09:02:38.831980",
   "version": "2.4.0"
  }
 },
 "nbformat": 4,
 "nbformat_minor": 5
}
