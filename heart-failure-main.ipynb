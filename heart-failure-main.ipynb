{
 "cells": [
  {
   "cell_type": "code",
   "execution_count": 1,
   "id": "1c46620d",
   "metadata": {
    "execution": {
     "iopub.execute_input": "2023-11-07T09:07:32.049629Z",
     "iopub.status.busy": "2023-11-07T09:07:32.048925Z",
     "iopub.status.idle": "2023-11-07T09:07:34.571930Z",
     "shell.execute_reply": "2023-11-07T09:07:34.570622Z"
    },
    "papermill": {
     "duration": 2.53308,
     "end_time": "2023-11-07T09:07:34.575326",
     "exception": false,
     "start_time": "2023-11-07T09:07:32.042246",
     "status": "completed"
    },
    "tags": []
   },
   "outputs": [],
   "source": [
    "# Logistic regression model \n",
    "\n",
    "# Importing needed libraries\n",
    "import numpy as np # linear algebra\n",
    "import pandas as pd # data processing, CSV file I/O (e.g. pd.read_csv)\n",
    "from sklearn.model_selection import train_test_split # Split dataset into train and test data\n",
    "from sklearn.metrics import accuracy_score # Find the accuracy of trained model\n",
    "from sklearn.preprocessing import StandardScaler # Removes the mean and scales each feature/variable to unit variance.\n",
    "import seaborn as sns # For data visualization"
   ]
  },
  {
   "cell_type": "code",
   "execution_count": 2,
   "id": "b31ae7ec",
   "metadata": {
    "execution": {
     "iopub.execute_input": "2023-11-07T09:07:34.588566Z",
     "iopub.status.busy": "2023-11-07T09:07:34.587958Z",
     "iopub.status.idle": "2023-11-07T09:07:34.600956Z",
     "shell.execute_reply": "2023-11-07T09:07:34.599749Z"
    },
    "papermill": {
     "duration": 0.022325,
     "end_time": "2023-11-07T09:07:34.604074",
     "exception": false,
     "start_time": "2023-11-07T09:07:34.581749",
     "status": "completed"
    },
    "tags": []
   },
   "outputs": [],
   "source": [
    "# Implementation of Logistic Regression\n",
    "class LogisiticRegression():\n",
    "    \n",
    "    # Function to initialize learning rate, epochs, weights and bias\n",
    "    def __init__(self, learning_rate = 0.5, epochs = 100):\n",
    "        self.lr = learning_rate\n",
    "        self.epochs = epochs\n",
    "        self.weights = None\n",
    "        self.bias = None\n",
    "        \n",
    "    # Fit function to train model using logistic regression \n",
    "    def fit(self, X, Y):\n",
    "        self.no_ex,self.no_features = X.shape\n",
    "        self.weights = np.zeros(self.no_features)\n",
    "        self.bias = 0\n",
    "        self.X = X\n",
    "        self.Y = Y\n",
    "        \n",
    "        for i in range(self.epochs):\n",
    "            self.update_weights()\n",
    "            \n",
    "    # To update the weights\n",
    "    def update_weights(self):\n",
    "        # Main formula\n",
    "        Y_hat = 1 / (1 + np.exp(-(self.X.dot(self.weights) + self.bias)))\n",
    "        \n",
    "        # Gradient decent\n",
    "        dw = (1 / self.no_ex) * np.dot(self.X.T,(Y_hat - self.Y))\n",
    "        db = (1 / self.no_ex) * np.sum(Y_hat - self.Y)\n",
    "        \n",
    "        self.weights -= self.lr * dw\n",
    "        self.bias -= self.lr * db\n",
    "    \n",
    "    # Predict function to predict values from trained model\n",
    "    def predict(self, X):\n",
    "        Y_pred = 1 /(1 + np.exp(-(X.dot(self.weights) + self.bias)))\n",
    "        Y_pred = np.where( Y_pred > 0.5,1,0)\n",
    "        return Y_pred"
   ]
  },
  {
   "cell_type": "code",
   "execution_count": 3,
   "id": "022b513b",
   "metadata": {
    "execution": {
     "iopub.execute_input": "2023-11-07T09:07:34.615148Z",
     "iopub.status.busy": "2023-11-07T09:07:34.614667Z",
     "iopub.status.idle": "2023-11-07T09:07:34.640888Z",
     "shell.execute_reply": "2023-11-07T09:07:34.639672Z"
    },
    "papermill": {
     "duration": 0.035149,
     "end_time": "2023-11-07T09:07:34.643870",
     "exception": false,
     "start_time": "2023-11-07T09:07:34.608721",
     "status": "completed"
    },
    "tags": []
   },
   "outputs": [],
   "source": [
    "# Reading dataset csv file\n",
    "data = pd.read_csv('../input/heart-failure-clinical-data/heart_failure_clinical_records_dataset.csv')"
   ]
  },
  {
   "cell_type": "code",
   "execution_count": 4,
   "id": "307333a8",
   "metadata": {
    "execution": {
     "iopub.execute_input": "2023-11-07T09:07:34.656146Z",
     "iopub.status.busy": "2023-11-07T09:07:34.654117Z",
     "iopub.status.idle": "2023-11-07T09:07:34.686232Z",
     "shell.execute_reply": "2023-11-07T09:07:34.684647Z"
    },
    "papermill": {
     "duration": 0.040889,
     "end_time": "2023-11-07T09:07:34.689329",
     "exception": false,
     "start_time": "2023-11-07T09:07:34.648440",
     "status": "completed"
    },
    "tags": []
   },
   "outputs": [
    {
     "data": {
      "text/html": [
       "<div>\n",
       "<style scoped>\n",
       "    .dataframe tbody tr th:only-of-type {\n",
       "        vertical-align: middle;\n",
       "    }\n",
       "\n",
       "    .dataframe tbody tr th {\n",
       "        vertical-align: top;\n",
       "    }\n",
       "\n",
       "    .dataframe thead th {\n",
       "        text-align: right;\n",
       "    }\n",
       "</style>\n",
       "<table border=\"1\" class=\"dataframe\">\n",
       "  <thead>\n",
       "    <tr style=\"text-align: right;\">\n",
       "      <th></th>\n",
       "      <th>age</th>\n",
       "      <th>anaemia</th>\n",
       "      <th>creatinine_phosphokinase</th>\n",
       "      <th>diabetes</th>\n",
       "      <th>ejection_fraction</th>\n",
       "      <th>high_blood_pressure</th>\n",
       "      <th>platelets</th>\n",
       "      <th>serum_creatinine</th>\n",
       "      <th>serum_sodium</th>\n",
       "      <th>sex</th>\n",
       "      <th>smoking</th>\n",
       "      <th>time</th>\n",
       "      <th>DEATH_EVENT</th>\n",
       "    </tr>\n",
       "  </thead>\n",
       "  <tbody>\n",
       "    <tr>\n",
       "      <th>0</th>\n",
       "      <td>75.0</td>\n",
       "      <td>0</td>\n",
       "      <td>582</td>\n",
       "      <td>0</td>\n",
       "      <td>20</td>\n",
       "      <td>1</td>\n",
       "      <td>265000.00</td>\n",
       "      <td>1.9</td>\n",
       "      <td>130</td>\n",
       "      <td>1</td>\n",
       "      <td>0</td>\n",
       "      <td>4</td>\n",
       "      <td>1</td>\n",
       "    </tr>\n",
       "    <tr>\n",
       "      <th>1</th>\n",
       "      <td>55.0</td>\n",
       "      <td>0</td>\n",
       "      <td>7861</td>\n",
       "      <td>0</td>\n",
       "      <td>38</td>\n",
       "      <td>0</td>\n",
       "      <td>263358.03</td>\n",
       "      <td>1.1</td>\n",
       "      <td>136</td>\n",
       "      <td>1</td>\n",
       "      <td>0</td>\n",
       "      <td>6</td>\n",
       "      <td>1</td>\n",
       "    </tr>\n",
       "    <tr>\n",
       "      <th>2</th>\n",
       "      <td>65.0</td>\n",
       "      <td>0</td>\n",
       "      <td>146</td>\n",
       "      <td>0</td>\n",
       "      <td>20</td>\n",
       "      <td>0</td>\n",
       "      <td>162000.00</td>\n",
       "      <td>1.3</td>\n",
       "      <td>129</td>\n",
       "      <td>1</td>\n",
       "      <td>1</td>\n",
       "      <td>7</td>\n",
       "      <td>1</td>\n",
       "    </tr>\n",
       "    <tr>\n",
       "      <th>3</th>\n",
       "      <td>50.0</td>\n",
       "      <td>1</td>\n",
       "      <td>111</td>\n",
       "      <td>0</td>\n",
       "      <td>20</td>\n",
       "      <td>0</td>\n",
       "      <td>210000.00</td>\n",
       "      <td>1.9</td>\n",
       "      <td>137</td>\n",
       "      <td>1</td>\n",
       "      <td>0</td>\n",
       "      <td>7</td>\n",
       "      <td>1</td>\n",
       "    </tr>\n",
       "    <tr>\n",
       "      <th>4</th>\n",
       "      <td>65.0</td>\n",
       "      <td>1</td>\n",
       "      <td>160</td>\n",
       "      <td>1</td>\n",
       "      <td>20</td>\n",
       "      <td>0</td>\n",
       "      <td>327000.00</td>\n",
       "      <td>2.7</td>\n",
       "      <td>116</td>\n",
       "      <td>0</td>\n",
       "      <td>0</td>\n",
       "      <td>8</td>\n",
       "      <td>1</td>\n",
       "    </tr>\n",
       "  </tbody>\n",
       "</table>\n",
       "</div>"
      ],
      "text/plain": [
       "    age  anaemia  creatinine_phosphokinase  diabetes  ejection_fraction  \\\n",
       "0  75.0        0                       582         0                 20   \n",
       "1  55.0        0                      7861         0                 38   \n",
       "2  65.0        0                       146         0                 20   \n",
       "3  50.0        1                       111         0                 20   \n",
       "4  65.0        1                       160         1                 20   \n",
       "\n",
       "   high_blood_pressure  platelets  serum_creatinine  serum_sodium  sex  \\\n",
       "0                    1  265000.00               1.9           130    1   \n",
       "1                    0  263358.03               1.1           136    1   \n",
       "2                    0  162000.00               1.3           129    1   \n",
       "3                    0  210000.00               1.9           137    1   \n",
       "4                    0  327000.00               2.7           116    0   \n",
       "\n",
       "   smoking  time  DEATH_EVENT  \n",
       "0        0     4            1  \n",
       "1        0     6            1  \n",
       "2        1     7            1  \n",
       "3        0     7            1  \n",
       "4        0     8            1  "
      ]
     },
     "execution_count": 4,
     "metadata": {},
     "output_type": "execute_result"
    }
   ],
   "source": [
    "data.head()"
   ]
  },
  {
   "cell_type": "code",
   "execution_count": 5,
   "id": "c83e63ec",
   "metadata": {
    "execution": {
     "iopub.execute_input": "2023-11-07T09:07:34.702049Z",
     "iopub.status.busy": "2023-11-07T09:07:34.701538Z",
     "iopub.status.idle": "2023-11-07T09:07:35.141353Z",
     "shell.execute_reply": "2023-11-07T09:07:35.140023Z"
    },
    "papermill": {
     "duration": 0.449662,
     "end_time": "2023-11-07T09:07:35.144306",
     "exception": false,
     "start_time": "2023-11-07T09:07:34.694644",
     "status": "completed"
    },
    "tags": []
   },
   "outputs": [
    {
     "data": {
      "text/plain": [
       "<Axes: >"
      ]
     },
     "execution_count": 5,
     "metadata": {},
     "output_type": "execute_result"
    },
    {
     "data": {
      "image/png": "[encoded data removed]",
      "text/plain": [
       "<Figure size 640x480 with 1 Axes>"
      ]
     },
     "metadata": {},
     "output_type": "display_data"
    }
   ],
   "source": [
    "# Data visualization\n",
    "corr_arr = []\n",
    "name_arr = []\n",
    "\n",
    "for col in range(len(data.columns)):\n",
    "    if data.columns[col] == \"DEATH_EVENT\":\n",
    "        continue\n",
    "\n",
    "    name_arr.append(data.columns[col])\n",
    "\n",
    "    corr = data.corr()[\"DEATH_EVENT\"][col]\n",
    "    if corr < 0: corr *= -1\n",
    "    corr_arr.append(corr)\n",
    "\n",
    "pd.Series(corr_arr, name_arr).sort_values().plot(kind=\"barh\")"
   ]
  },
  {
   "cell_type": "code",
   "execution_count": 6,
   "id": "be410923",
   "metadata": {
    "execution": {
     "iopub.execute_input": "2023-11-07T09:07:35.159132Z",
     "iopub.status.busy": "2023-11-07T09:07:35.158723Z",
     "iopub.status.idle": "2023-11-07T09:07:35.172699Z",
     "shell.execute_reply": "2023-11-07T09:07:35.171590Z"
    },
    "papermill": {
     "duration": 0.024829,
     "end_time": "2023-11-07T09:07:35.175511",
     "exception": false,
     "start_time": "2023-11-07T09:07:35.150682",
     "status": "completed"
    },
    "tags": []
   },
   "outputs": [],
   "source": [
    "# Specifying Train features Target feature\n",
    "features = data.drop('DEATH_EVENT',axis=1)\n",
    "target = data['DEATH_EVENT']"
   ]
  },
  {
   "cell_type": "code",
   "execution_count": 7,
   "id": "32ceafab",
   "metadata": {
    "execution": {
     "iopub.execute_input": "2023-11-07T09:07:35.188391Z",
     "iopub.status.busy": "2023-11-07T09:07:35.187973Z",
     "iopub.status.idle": "2023-11-07T09:07:35.198910Z",
     "shell.execute_reply": "2023-11-07T09:07:35.197468Z"
    },
    "papermill": {
     "duration": 0.02043,
     "end_time": "2023-11-07T09:07:35.201474",
     "exception": false,
     "start_time": "2023-11-07T09:07:35.181044",
     "status": "completed"
    },
    "tags": []
   },
   "outputs": [],
   "source": [
    "scaler =  StandardScaler()\n",
    "scaler.fit(features)\n",
    "\n",
    "chngd_data = scaler.transform(features)\n",
    "\n",
    "features = chngd_data\n",
    "target = data['DEATH_EVENT']"
   ]
  },
  {
   "cell_type": "code",
   "execution_count": 8,
   "id": "9113d655",
   "metadata": {
    "execution": {
     "iopub.execute_input": "2023-11-07T09:07:35.215384Z",
     "iopub.status.busy": "2023-11-07T09:07:35.214903Z",
     "iopub.status.idle": "2023-11-07T09:07:35.223107Z",
     "shell.execute_reply": "2023-11-07T09:07:35.221873Z"
    },
    "papermill": {
     "duration": 0.018122,
     "end_time": "2023-11-07T09:07:35.225899",
     "exception": false,
     "start_time": "2023-11-07T09:07:35.207777",
     "status": "completed"
    },
    "tags": []
   },
   "outputs": [],
   "source": [
    "# Spliting data into training and testing data\n",
    "X_train,X_test,Y_train,Y_test = train_test_split(features, target, test_size = 0.75,random_state = 2) "
   ]
  },
  {
   "cell_type": "code",
   "execution_count": 9,
   "id": "8851338f",
   "metadata": {
    "execution": {
     "iopub.execute_input": "2023-11-07T09:07:35.239201Z",
     "iopub.status.busy": "2023-11-07T09:07:35.238728Z",
     "iopub.status.idle": "2023-11-07T09:07:35.311136Z",
     "shell.execute_reply": "2023-11-07T09:07:35.310168Z"
    },
    "papermill": {
     "duration": 0.082115,
     "end_time": "2023-11-07T09:07:35.313598",
     "exception": false,
     "start_time": "2023-11-07T09:07:35.231483",
     "status": "completed"
    },
    "tags": []
   },
   "outputs": [],
   "source": [
    "# Making instance of linear regression\n",
    "object1 = LogisiticRegression()\n",
    "\n",
    "# Fit function to train model\n",
    "object1.fit(X_train,Y_train)\n",
    "# Making actual prediction\n",
    "prediction = object1.predict(X_test)"
   ]
  },
  {
   "cell_type": "code",
   "execution_count": 10,
   "id": "4e6323a8",
   "metadata": {
    "execution": {
     "iopub.execute_input": "2023-11-07T09:07:35.326772Z",
     "iopub.status.busy": "2023-11-07T09:07:35.326337Z",
     "iopub.status.idle": "2023-11-07T09:07:35.335324Z",
     "shell.execute_reply": "2023-11-07T09:07:35.334144Z"
    },
    "papermill": {
     "duration": 0.018689,
     "end_time": "2023-11-07T09:07:35.337773",
     "exception": false,
     "start_time": "2023-11-07T09:07:35.319084",
     "status": "completed"
    },
    "tags": []
   },
   "outputs": [
    {
     "name": "stdout",
     "output_type": "stream",
     "text": [
      "Accuracy :  85.33\n"
     ]
    }
   ],
   "source": [
    "# Finding model accuracy\n",
    "accuracy = round(accuracy_score(Y_test,prediction) * 100, 2)\n",
    "print(\"Accuracy : \", accuracy)"
   ]
  }
 ],
 "metadata": {
  "kernelspec": {
   "display_name": "Python 3",
   "language": "python",
   "name": "python3"
  },
  "language_info": {
   "codemirror_mode": {
    "name": "ipython",
    "version": 3
   },
   "file_extension": ".py",
   "mimetype": "text/x-python",
   "name": "python",
   "nbconvert_exporter": "python",
   "pygments_lexer": "ipython3",
   "version": "3.10.12"
  },
  "papermill": {
   "default_parameters": {},
   "duration": 7.889678,
   "end_time": "2023-11-07T09:07:36.065781",
   "environment_variables": {},
   "exception": null,
   "input_path": "__notebook__.ipynb",
   "output_path": "__notebook__.ipynb",
   "parameters": {},
   "start_time": "2023-11-07T09:07:28.176103",
   "version": "2.4.0"
  }
 },
 "nbformat": 4,
 "nbformat_minor": 5
}
