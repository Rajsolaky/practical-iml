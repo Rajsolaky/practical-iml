{
 "cells": [
  {
   "cell_type": "markdown",
   "id": "f6946b76",
   "metadata": {
    "papermill": {
     "duration": 0.002559,
     "end_time": "2023-11-05T09:06:44.432870",
     "exception": false,
     "start_time": "2023-11-05T09:06:44.430311",
     "status": "completed"
    },
    "tags": []
   },
   "source": [
    "# 1.to find and drop the missing values from the given dataset"
   ]
  },
  {
   "cell_type": "code",
   "execution_count": 1,
   "id": "5b8524eb",
   "metadata": {
    "execution": {
     "iopub.execute_input": "2023-11-05T09:06:44.438031Z",
     "iopub.status.busy": "2023-11-05T09:06:44.437700Z",
     "iopub.status.idle": "2023-11-05T09:06:44.735314Z",
     "shell.execute_reply": "2023-11-05T09:06:44.733652Z"
    },
    "papermill": {
     "duration": 0.304238,
     "end_time": "2023-11-05T09:06:44.739020",
     "exception": false,
     "start_time": "2023-11-05T09:06:44.434782",
     "status": "completed"
    },
    "tags": []
   },
   "outputs": [
    {
     "name": "stdout",
     "output_type": "stream",
     "text": [
      "Dataframe with missing values\n",
      "  Name   ID\n",
      "0    A  1.0\n",
      "1    A  1.0\n",
      "2  NaN  3.0\n",
      "3    D  4.0\n",
      "4    E  NaN\n",
      "Dataframe with removed missing values\n",
      "  Name   ID\n",
      "0    A  1.0\n",
      "1    A  1.0\n",
      "3    D  4.0\n"
     ]
    }
   ],
   "source": [
    "#216270307025\n",
    "#Solanki Raj\n",
    "\n",
    "import numpy as np\n",
    "import pandas as pd\n",
    "\n",
    "data={\n",
    "'Name':['A','A',np.nan,'D','E'],\n",
    "'ID':[1,1,3,4,np.nan]\n",
    "}\n",
    "\n",
    "df=pd.DataFrame(data)\n",
    "\n",
    "print(\"Dataframe with missing values\")\n",
    "print(df)\n",
    "\n",
    "new_df=df.dropna()\n",
    "\n",
    "print(\"Dataframe with removed missing values\")\n",
    "print(new_df)\n"
   ]
  },
  {
   "cell_type": "markdown",
   "id": "5b1a37af",
   "metadata": {
    "papermill": {
     "duration": 0.001447,
     "end_time": "2023-11-05T09:06:44.742537",
     "exception": false,
     "start_time": "2023-11-05T09:06:44.741090",
     "status": "completed"
    },
    "tags": []
   },
   "source": [
    "# 2.to remove the duplicates from the given dataset."
   ]
  },
  {
   "cell_type": "code",
   "execution_count": 2,
   "id": "58013713",
   "metadata": {
    "execution": {
     "iopub.execute_input": "2023-11-05T09:06:44.747736Z",
     "iopub.status.busy": "2023-11-05T09:06:44.747291Z",
     "iopub.status.idle": "2023-11-05T09:06:44.762529Z",
     "shell.execute_reply": "2023-11-05T09:06:44.761229Z"
    },
    "papermill": {
     "duration": 0.020186,
     "end_time": "2023-11-05T09:06:44.764327",
     "exception": false,
     "start_time": "2023-11-05T09:06:44.744141",
     "status": "completed"
    },
    "tags": []
   },
   "outputs": [
    {
     "name": "stdout",
     "output_type": "stream",
     "text": [
      "  Name   ID\n",
      "0    A  1.0\n",
      "3    D  4.0\n"
     ]
    }
   ],
   "source": [
    "#216270307025\n",
    "#Solanki Raj\n",
    "\n",
    "print(new_df.drop_duplicates())\n"
   ]
  }
 ],
 "metadata": {
  "kernelspec": {
   "display_name": "Python 3",
   "language": "python",
   "name": "python3"
  },
  "language_info": {
   "codemirror_mode": {
    "name": "ipython",
    "version": 3
   },
   "file_extension": ".py",
   "mimetype": "text/x-python",
   "name": "python",
   "nbconvert_exporter": "python",
   "pygments_lexer": "ipython3",
   "version": "3.10.12"
  },
  "papermill": {
   "default_parameters": {},
   "duration": 3.566804,
   "end_time": "2023-11-05T09:06:45.287442",
   "environment_variables": {},
   "exception": null,
   "input_path": "__notebook__.ipynb",
   "output_path": "__notebook__.ipynb",
   "parameters": {},
   "start_time": "2023-11-05T09:06:41.720638",
   "version": "2.4.0"
  }
 },
 "nbformat": 4,
 "nbformat_minor": 5
}
